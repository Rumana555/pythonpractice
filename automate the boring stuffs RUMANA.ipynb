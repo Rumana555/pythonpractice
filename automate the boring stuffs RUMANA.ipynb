{
  "cells": [
    {
      "metadata": {
        "trusted": true
      },
      "cell_type": "code",
      "source": "def spam(divideBy):\n    try:\n        return 42/divideBy\n    except ZeroDivisionError:\n        print ('Error: Invalid argument.')\n\nprint (spam(2))\nprint (spam(12))\nprint (spam(0))\nprint (spam(1))",
      "execution_count": null,
      "outputs": []
    },
    {
      "metadata": {
        "trusted": true
      },
      "cell_type": "code",
      "source": "42/0",
      "execution_count": null,
      "outputs": []
    },
    {
      "metadata": {
        "trusted": true
      },
      "cell_type": "code",
      "source": "0/42",
      "execution_count": null,
      "outputs": []
    },
    {
      "metadata": {
        "trusted": true
      },
      "cell_type": "code",
      "source": "spam('hello')\n",
      "execution_count": null,
      "outputs": []
    },
    {
      "metadata": {
        "trusted": true
      },
      "cell_type": "code",
      "source": "",
      "execution_count": null,
      "outputs": []
    },
    {
      "metadata": {
        "trusted": true
      },
      "cell_type": "code",
      "source": "# This is a guess the number game.\nimport random\nsecret_number = random.randint(1, 20)\nprint ('I am thinking of a number between 1 and 20.')\n\n# Ask the player to guess 6 times.\nfor guesses_taken in range(1, 7):\n    print ('take a guess.')\n    guess = int(input())\n\n    if guess < secret_number:\n        print ('Your guess is too low.')\n    elif guess > secret_number:\n        print ('Your guess is too high.')\n    else:\n        break  # This condition is the correct guess!\n\nif guess == secret_number:\n    print ('Good job! You guessd my number in ' + str(guesses_taken) + ' guesses!')\nelse:\n    print ('Nope. The number I was thinking of was ' + str(secret_number))",
      "execution_count": 1,
      "outputs": [
        {
          "output_type": "stream",
          "text": "I am thinking of a number between 1 and 20.\ntake a guess.\n10\nYour guess is too low.\ntake a guess.\n15\nYour guess is too low.\ntake a guess.\n18\nGood job! You guessd my number in 3 guesses!\n",
          "name": "stdout"
        }
      ]
    },
    {
      "metadata": {
        "trusted": true
      },
      "cell_type": "code",
      "source": "# This is a guess the number game.\nimport random\nsecret_number = random.randint(1, 20)\nprint ('I am thinking of a number between 1 and 20.')\n\n# Ask the player to guess 6 times.\nwhile True:\n    print ('take a guess.')\n    guess = int(input())\n\n    if guess < secret_number:\n        print ('Your guess is too low.')\n    elif guess > secret_number:\n        print ('Your guess is too high.')\n    else:\n        break  # This condition is the correct guess!\n\nif guess == secret_number:\n    print ('Good job! You guessd my number in ' + str(guesses_taken) + ' guesses!')\nelse:\n    print ('Nope. The number I was thinking of was ' + str(secret_number))",
      "execution_count": 3,
      "outputs": [
        {
          "output_type": "stream",
          "text": "I am thinking of a number between 1 and 20.\ntake a guess.\n15\nYour guess is too high.\ntake a guess.\n10\nYour guess is too high.\ntake a guess.\n3\nYour guess is too low.\ntake a guess.\n5\nYour guess is too high.\ntake a guess.\n1\nYour guess is too low.\ntake a guess.\n2\nYour guess is too low.\ntake a guess.\n4\nGood job! You guessd my number in 3 guesses!\n",
          "name": "stdout"
        }
      ]
    },
    {
      "metadata": {
        "trusted": true
      },
      "cell_type": "code",
      "source": "def spam(divideBy):\n   if type(divideBy)==str:\n       print(\"why did u enter string?\")\n   else:\n       try:\n           return 42/divideBy\n       except ZeroDivisionError:\n           print ('Error: Invalid argument.')\n\nprint (spam(2))\nprint (spam(12))\nprint (spam(0))\nprint (spam(1)) ",
      "execution_count": 12,
      "outputs": [
        {
          "output_type": "stream",
          "text": "21.0\n3.5\nError: Invalid argument.\nNone\n42.0\n",
          "name": "stdout"
        }
      ]
    },
    {
      "metadata": {
        "trusted": true
      },
      "cell_type": "code",
      "source": "print(spam(\"a\"))",
      "execution_count": 13,
      "outputs": [
        {
          "output_type": "stream",
          "text": "why did u enter string?\nNone\n",
          "name": "stdout"
        }
      ]
    },
    {
      "metadata": {
        "trusted": true
      },
      "cell_type": "code",
      "source": "x=[1, 2, 3] + ['A', 'B', 'C']",
      "execution_count": 16,
      "outputs": []
    },
    {
      "metadata": {
        "trusted": true
      },
      "cell_type": "code",
      "source": "x.append(7)",
      "execution_count": 17,
      "outputs": []
    },
    {
      "metadata": {
        "trusted": true
      },
      "cell_type": "code",
      "source": "x",
      "execution_count": 18,
      "outputs": [
        {
          "output_type": "execute_result",
          "execution_count": 18,
          "data": {
            "text/plain": "[1, 2, 3, 'A', 'B', 'C', 7]"
          },
          "metadata": {}
        }
      ]
    },
    {
      "metadata": {
        "trusted": true
      },
      "cell_type": "code",
      "source": "['X', 'Y', 'Z'] * 3",
      "execution_count": 19,
      "outputs": [
        {
          "output_type": "execute_result",
          "execution_count": 19,
          "data": {
            "text/plain": "['X', 'Y', 'Z', 'X', 'Y', 'Z', 'X', 'Y', 'Z']"
          },
          "metadata": {}
        }
      ]
    },
    {
      "metadata": {
        "trusted": true
      },
      "cell_type": "code",
      "source": "x=['X', 'Y', 'Z'] * 5",
      "execution_count": 20,
      "outputs": [
        {
          "output_type": "execute_result",
          "execution_count": 20,
          "data": {
            "text/plain": "['X', 'Y', 'Z', 'X', 'Y', 'Z', 'X', 'Y', 'Z', 'X', 'Y', 'Z', 'X', 'Y', 'Z']"
          },
          "metadata": {}
        }
      ]
    },
    {
      "metadata": {
        "trusted": true
      },
      "cell_type": "code",
      "source": "len(x)",
      "execution_count": 21,
      "outputs": [
        {
          "output_type": "execute_result",
          "execution_count": 21,
          "data": {
            "text/plain": "7"
          },
          "metadata": {}
        }
      ]
    },
    {
      "metadata": {
        "trusted": true
      },
      "cell_type": "code",
      "source": "x=['X', 'Y', 'Z'] * 5",
      "execution_count": 22,
      "outputs": []
    },
    {
      "metadata": {
        "trusted": true
      },
      "cell_type": "code",
      "source": "len(x)",
      "execution_count": 23,
      "outputs": [
        {
          "output_type": "execute_result",
          "execution_count": 23,
          "data": {
            "text/plain": "15"
          },
          "metadata": {}
        }
      ]
    },
    {
      "metadata": {
        "trusted": true
      },
      "cell_type": "code",
      "source": "spam = ['cat', 'bat', 'rat', 'elephant']\ndel spam[0]\nspam",
      "execution_count": 40,
      "outputs": [
        {
          "output_type": "execute_result",
          "execution_count": 40,
          "data": {
            "text/plain": "['bat', 'rat', 'elephant']"
          },
          "metadata": {}
        }
      ]
    },
    {
      "metadata": {
        "trusted": true
      },
      "cell_type": "code",
      "source": "del spam [2]\nspam",
      "execution_count": 41,
      "outputs": [
        {
          "output_type": "execute_result",
          "execution_count": 41,
          "data": {
            "text/plain": "['bat', 'rat']"
          },
          "metadata": {}
        }
      ]
    },
    {
      "metadata": {
        "trusted": true
      },
      "cell_type": "code",
      "source": "supplies = ['pens', 'staplers', 'flame-throuwers', 'binders']\nfor i in range(len(supplies)):\n    print(i)\n#     print ('Index ' + str(i) + ' in supplies is: ' + supplies[i])\n    print (supplies[i])",
      "execution_count": 46,
      "outputs": [
        {
          "output_type": "stream",
          "text": "0\npens\n1\nstaplers\n2\nflame-throuwers\n3\nbinders\n",
          "name": "stdout"
        }
      ]
    },
    {
      "metadata": {
        "trusted": true
      },
      "cell_type": "code",
      "source": "len(supplies)",
      "execution_count": 44,
      "outputs": [
        {
          "output_type": "execute_result",
          "execution_count": 44,
          "data": {
            "text/plain": "4"
          },
          "metadata": {}
        }
      ]
    },
    {
      "metadata": {
        "trusted": true
      },
      "cell_type": "code",
      "source": "supplies[0]",
      "execution_count": 48,
      "outputs": [
        {
          "output_type": "execute_result",
          "execution_count": 48,
          "data": {
            "text/plain": "'pens'"
          },
          "metadata": {}
        }
      ]
    },
    {
      "metadata": {
        "trusted": true
      },
      "cell_type": "code",
      "source": "for i in range(4):\n    print(i*3)",
      "execution_count": 51,
      "outputs": [
        {
          "output_type": "stream",
          "text": "0\n3\n6\n9\n",
          "name": "stdout"
        }
      ]
    },
    {
      "metadata": {
        "trusted": true
      },
      "cell_type": "code",
      "source": "'howdy' in ['hello', 'hi', 'howdy']",
      "execution_count": 52,
      "outputs": [
        {
          "output_type": "execute_result",
          "execution_count": 52,
          "data": {
            "text/plain": "True"
          },
          "metadata": {}
        }
      ]
    },
    {
      "metadata": {
        "trusted": true
      },
      "cell_type": "code",
      "source": "",
      "execution_count": 54,
      "outputs": []
    },
    {
      "metadata": {
        "trusted": true
      },
      "cell_type": "code",
      "source": "\ny",
      "execution_count": 55,
      "outputs": [
        {
          "output_type": "execute_result",
          "execution_count": 55,
          "data": {
            "text/plain": "['from india', ' speak hindi', ' vegeterian']"
          },
          "metadata": {}
        }
      ]
    },
    {
      "metadata": {
        "trusted": true
      },
      "cell_type": "code",
      "source": "x=\"from india, speak hindi, vegeterian\"\ny=x.split(\",\")\nfor ev in y:\n    if 'hindi' in ev.split(' '):\n        print('Hey lets talk in hindi on phone')",
      "execution_count": 68,
      "outputs": [
        {
          "output_type": "stream",
          "text": "Hey lets talk in hindi on phone\n",
          "name": "stdout"
        }
      ]
    },
    {
      "metadata": {
        "trusted": true
      },
      "cell_type": "code",
      "source": "cat = ['fat', 'black', 'loud']\nsize = cat[0]\ncolor = cat[1]\ndisposition = cat[2]",
      "execution_count": 70,
      "outputs": []
    },
    {
      "metadata": {
        "trusted": true
      },
      "cell_type": "code",
      "source": "cat = ['fat', 'black', 'loud']\nsize, color, disposition = cat\nprint (size, color, disposition)",
      "execution_count": 72,
      "outputs": [
        {
          "output_type": "stream",
          "text": "fat black loud\n",
          "name": "stdout"
        }
      ]
    },
    {
      "metadata": {
        "trusted": true
      },
      "cell_type": "code",
      "source": "cow = ['fat', 'red', 'loud']\nsize, color, disposition = cat",
      "execution_count": 76,
      "outputs": []
    },
    {
      "metadata": {
        "trusted": true
      },
      "cell_type": "code",
      "source": "print(cow[1])",
      "execution_count": 79,
      "outputs": [
        {
          "output_type": "stream",
          "text": "red\n",
          "name": "stdout"
        }
      ]
    },
    {
      "metadata": {
        "trusted": true
      },
      "cell_type": "code",
      "source": "spam = 42\nspam += 1\nspam",
      "execution_count": 80,
      "outputs": [
        {
          "output_type": "execute_result",
          "execution_count": 80,
          "data": {
            "text/plain": "43"
          },
          "metadata": {}
        }
      ]
    },
    {
      "metadata": {
        "trusted": true
      },
      "cell_type": "code",
      "source": "spam = 42\nspam =spam+ 1\nspam",
      "execution_count": 81,
      "outputs": [
        {
          "output_type": "execute_result",
          "execution_count": 81,
          "data": {
            "text/plain": "43"
          },
          "metadata": {}
        }
      ]
    },
    {
      "metadata": {
        "trusted": true
      },
      "cell_type": "code",
      "source": "spam = 'Hello'\nspam += ' world'\nspam",
      "execution_count": 82,
      "outputs": [
        {
          "output_type": "execute_result",
          "execution_count": 82,
          "data": {
            "text/plain": "'Hello world'"
          },
          "metadata": {}
        }
      ]
    },
    {
      "metadata": {
        "trusted": true
      },
      "cell_type": "code",
      "source": "bacon = ['Zophie']\nbacon *= 3\nbacon",
      "execution_count": 83,
      "outputs": [
        {
          "output_type": "execute_result",
          "execution_count": 83,
          "data": {
            "text/plain": "['Zophie', 'Zophie', 'Zophie']"
          },
          "metadata": {}
        }
      ]
    },
    {
      "metadata": {
        "trusted": true
      },
      "cell_type": "code",
      "source": "spam = ['hello', 'hi', 'howdy', 'heyas']\nspam.index('hi')",
      "execution_count": 85,
      "outputs": [
        {
          "output_type": "execute_result",
          "execution_count": 85,
          "data": {
            "text/plain": "1"
          },
          "metadata": {}
        }
      ]
    },
    {
      "metadata": {
        "trusted": true
      },
      "cell_type": "code",
      "source": "spam.index('hi')",
      "execution_count": 87,
      "outputs": [
        {
          "output_type": "execute_result",
          "execution_count": 87,
          "data": {
            "text/plain": "1"
          },
          "metadata": {}
        }
      ]
    },
    {
      "metadata": {
        "trusted": true
      },
      "cell_type": "code",
      "source": "spam.index('howdy')",
      "execution_count": 89,
      "outputs": [
        {
          "output_type": "execute_result",
          "execution_count": 89,
          "data": {
            "text/plain": "2"
          },
          "metadata": {}
        }
      ]
    },
    {
      "metadata": {
        "trusted": true
      },
      "cell_type": "code",
      "source": "spam = ['Zophie', 'Pooka', 'Fat-tail', 'Pooka']\nspam.index('Pooka')",
      "execution_count": 90,
      "outputs": [
        {
          "output_type": "execute_result",
          "execution_count": 90,
          "data": {
            "text/plain": "1"
          },
          "metadata": {}
        }
      ]
    },
    {
      "metadata": {
        "trusted": true
      },
      "cell_type": "code",
      "source": "spam = ['cat', 'dog', 'bat']\nspam.append('moose')\nspam",
      "execution_count": 91,
      "outputs": [
        {
          "output_type": "execute_result",
          "execution_count": 91,
          "data": {
            "text/plain": "['cat', 'dog', 'bat', 'moose']"
          },
          "metadata": {}
        }
      ]
    },
    {
      "metadata": {
        "trusted": true
      },
      "cell_type": "code",
      "source": "spam = ['cat', 'dog', 'bat']\nspam.append('cow')",
      "execution_count": 92,
      "outputs": []
    },
    {
      "metadata": {
        "trusted": true
      },
      "cell_type": "code",
      "source": "spam",
      "execution_count": 93,
      "outputs": [
        {
          "output_type": "execute_result",
          "execution_count": 93,
          "data": {
            "text/plain": "['cat', 'dog', 'bat', 'cow']"
          },
          "metadata": {}
        }
      ]
    },
    {
      "metadata": {
        "trusted": true
      },
      "cell_type": "code",
      "source": "spam = ['cat', 'dog', 'bat']\nspam",
      "execution_count": 95,
      "outputs": [
        {
          "output_type": "execute_result",
          "execution_count": 95,
          "data": {
            "text/plain": "['cat', 'dog', 'bat']"
          },
          "metadata": {}
        }
      ]
    },
    {
      "metadata": {
        "trusted": true
      },
      "cell_type": "code",
      "source": "spam.insert(1, 'chicken')\nspam",
      "execution_count": 96,
      "outputs": [
        {
          "output_type": "execute_result",
          "execution_count": 96,
          "data": {
            "text/plain": "['cat', 'chicken', 'dog', 'bat']"
          },
          "metadata": {}
        }
      ]
    },
    {
      "metadata": {
        "trusted": true
      },
      "cell_type": "code",
      "source": "spam = ['cat', 'bat', 'rat', 'elephant']\nspam.remove('bat')\nspam",
      "execution_count": 97,
      "outputs": [
        {
          "output_type": "execute_result",
          "execution_count": 97,
          "data": {
            "text/plain": "['cat', 'rat', 'elephant']"
          },
          "metadata": {}
        }
      ]
    },
    {
      "metadata": {
        "trusted": true
      },
      "cell_type": "code",
      "source": "spam = [2, 5, 3.14, 1, -7]\nspam.sort()\nspam",
      "execution_count": 98,
      "outputs": [
        {
          "output_type": "execute_result",
          "execution_count": 98,
          "data": {
            "text/plain": "[-7, 1, 2, 3.14, 5]"
          },
          "metadata": {}
        }
      ]
    },
    {
      "metadata": {
        "trusted": true
      },
      "cell_type": "code",
      "source": "spam = ['ants', 'cats', 'dogs', 'badgers', 'elephants']\nspam.sort()\nspam",
      "execution_count": 99,
      "outputs": [
        {
          "output_type": "execute_result",
          "execution_count": 99,
          "data": {
            "text/plain": "['ants', 'badgers', 'cats', 'dogs', 'elephants']"
          },
          "metadata": {}
        }
      ]
    },
    {
      "metadata": {
        "trusted": true
      },
      "cell_type": "code",
      "source": "spam.sort(reverse=True)\nspam",
      "execution_count": 100,
      "outputs": [
        {
          "output_type": "execute_result",
          "execution_count": 100,
          "data": {
            "text/plain": "['elephants', 'dogs', 'cats', 'badgers', 'ants']"
          },
          "metadata": {}
        }
      ]
    },
    {
      "metadata": {
        "trusted": true
      },
      "cell_type": "code",
      "source": "spam",
      "execution_count": 101,
      "outputs": [
        {
          "output_type": "execute_result",
          "execution_count": 101,
          "data": {
            "text/plain": "['elephants', 'dogs', 'cats', 'badgers', 'ants']"
          },
          "metadata": {}
        }
      ]
    },
    {
      "metadata": {
        "trusted": true
      },
      "cell_type": "code",
      "source": "spam = [1, 3, 2, 4,]\nspam.sort()\nspam",
      "execution_count": 105,
      "outputs": [
        {
          "output_type": "execute_result",
          "execution_count": 105,
          "data": {
            "text/plain": "[1, 2, 3, 4]"
          },
          "metadata": {}
        }
      ]
    },
    {
      "metadata": {
        "trusted": true
      },
      "cell_type": "code",
      "source": "spam = ['Alice', 'ants', 'Bob', 'badgers', 'Carol', 'cats']\nspam.sort()\nspam",
      "execution_count": 106,
      "outputs": [
        {
          "output_type": "execute_result",
          "execution_count": 106,
          "data": {
            "text/plain": "['Alice', 'Bob', 'Carol', 'ants', 'badgers', 'cats']"
          },
          "metadata": {}
        }
      ]
    },
    {
      "metadata": {
        "trusted": true
      },
      "cell_type": "code",
      "source": "spam = ['a', 'z', 'A', 'Z']\nspam.sort(key=str.lower)\nspam",
      "execution_count": 113,
      "outputs": [
        {
          "output_type": "execute_result",
          "execution_count": 113,
          "data": {
            "text/plain": "['a', 'A', 'z', 'Z']"
          },
          "metadata": {}
        }
      ]
    },
    {
      "metadata": {
        "trusted": true
      },
      "cell_type": "code",
      "source": "import random\n\nmessages = ['It is certain',\n    'It is decidedly so',\n    'Yes definitely',\n    'Reply hazy try again',\n    'Ask again later',\n    'Concentrate and ask again',\n    'My reply is no',\n    'Outlook not so good',\n    'Very doubtful']\n\nprint(messages[random.randint(0, len(messages) - 1)])",
      "execution_count": 119,
      "outputs": [
        {
          "output_type": "stream",
          "text": "Reply hazy try again\n",
          "name": "stdout"
        }
      ]
    },
    {
      "metadata": {
        "trusted": true
      },
      "cell_type": "code",
      "source": "random.randint(1,20)",
      "execution_count": 121,
      "outputs": [
        {
          "output_type": "execute_result",
          "execution_count": 121,
          "data": {
            "text/plain": "18"
          },
          "metadata": {}
        }
      ]
    },
    {
      "metadata": {
        "trusted": true
      },
      "cell_type": "code",
      "source": "print('Four score and seven ' + \\\n      'years ago...')",
      "execution_count": 122,
      "outputs": [
        {
          "output_type": "stream",
          "text": "Four score and seven years ago...\n",
          "name": "stdout"
        }
      ]
    },
    {
      "metadata": {
        "trusted": true
      },
      "cell_type": "code",
      "source": "spam = ['apples', 'bananas', 'tofu', 'cats']\n\nprint (str(spam))",
      "execution_count": 125,
      "outputs": [
        {
          "output_type": "stream",
          "text": "['apples', 'bananas', 'tofu', 'cats']\n",
          "name": "stdout"
        }
      ]
    },
    {
      "metadata": {
        "trusted": true
      },
      "cell_type": "code",
      "source": "for i in range(len(spam)-1):\n    print (spam[i])",
      "execution_count": 126,
      "outputs": [
        {
          "output_type": "stream",
          "text": "apples\nbananas\ntofu\n",
          "name": "stdout"
        }
      ]
    },
    {
      "metadata": {
        "trusted": true
      },
      "cell_type": "code",
      "source": "output = ''\nfor i in range(len(spam)-1):\n    output += spam[i] + ', ' \nprint (output)",
      "execution_count": 127,
      "outputs": [
        {
          "output_type": "stream",
          "text": "apples, bananas, tofu, \n",
          "name": "stdout"
        }
      ]
    },
    {
      "metadata": {
        "trusted": true
      },
      "cell_type": "code",
      "source": "def list2Str(spam):\n    output = ''\n    for i in range(len(spam)):\n        if i != len(spam) - 1:\n            output += spam[i] + ', ' \n        else:\n            output += 'and '+ spam[i]\n    return output",
      "execution_count": 128,
      "outputs": []
    },
    {
      "metadata": {
        "trusted": true
      },
      "cell_type": "code",
      "source": "row_list = input()\ntype(row_list)",
      "execution_count": 130,
      "outputs": [
        {
          "output_type": "stream",
          "name": "stdout",
          "text": "['apples', 'bananas', 'tofu', 'cats']\n"
        },
        {
          "output_type": "execute_result",
          "execution_count": 130,
          "data": {
            "text/plain": "str"
          },
          "metadata": {}
        }
      ]
    },
    {
      "metadata": {
        "trusted": true
      },
      "cell_type": "code",
      "source": "\"['apples', 'bananas', 'tofu', 'cats']\"",
      "execution_count": 132,
      "outputs": [
        {
          "output_type": "execute_result",
          "execution_count": 132,
          "data": {
            "text/plain": "\"['apples', 'bananas', 'tofu', 'cats']\""
          },
          "metadata": {}
        }
      ]
    },
    {
      "metadata": {
        "trusted": true
      },
      "cell_type": "code",
      "source": "list2Str(row_list)\n",
      "execution_count": 133,
      "outputs": [
        {
          "output_type": "execute_result",
          "execution_count": 133,
          "data": {
            "text/plain": "\"[, ', a, p, p, l, e, s, ', ,,  , ', b, a, n, a, n, a, s, ', ,,  , ', t, o, f, u, ', ,,  , ', c, a, t, s, ', and ]\""
          },
          "metadata": {}
        }
      ]
    },
    {
      "metadata": {
        "trusted": true
      },
      "cell_type": "code",
      "source": "len(\"hellllllo\")",
      "execution_count": 134,
      "outputs": [
        {
          "output_type": "execute_result",
          "execution_count": 134,
          "data": {
            "text/plain": "9"
          },
          "metadata": {}
        }
      ]
    },
    {
      "metadata": {
        "trusted": true
      },
      "cell_type": "code",
      "source": "len([1,2,4])",
      "execution_count": 135,
      "outputs": [
        {
          "output_type": "execute_result",
          "execution_count": 135,
          "data": {
            "text/plain": "3"
          },
          "metadata": {}
        }
      ]
    },
    {
      "metadata": {
        "trusted": true
      },
      "cell_type": "code",
      "source": "cat_names = []\n\nwhile True:\n    print ('Input the cat ' + str(len(cat_names)+1) + ' or input nothing to break')\n    name = input()\n    if name == '':\n        break\n    else:\n        cat_names = cat_names + [name]\n\nprint (\"Now you have cats: \")\n# for i in range(len(cat_names)):\n#     print (\"The cat \" + str(i) + \" is \" + cat_names[i])\nfor name in cat_names:\n    print (' ' + name)",
      "execution_count": null,
      "outputs": []
    },
    {
      "metadata": {
        "trusted": true
      },
      "cell_type": "code",
      "source": "cat_names = []\n\nfor i in range(2):\n    print ('Input the cat ' + str(len(cat_names)+1) + ' or input nothing to break')\n    name = input()\n    if name == '':\n        break\n    else:\n        cat_names = cat_names + [name]\n\nprint (\"Now you have cats: \")\n# for i in range(len(cat_names)):\n#     print (\"The cat \" + str(i) + \" is \" + cat_names[i])\nfor name in cat_names:\n    print (' ' + name)",
      "execution_count": null,
      "outputs": []
    },
    {
      "metadata": {
        "trusted": true
      },
      "cell_type": "code",
      "source": "cat_names = []\n\nfor i in range(2):\n   print ('Input the cat ' + str(len(cat_names)+1) + ' or input nothing to break')\n   name = input()\n   if name == '':\n       break\n   else:\n       cat_names = cat_names + [name]\n\nprint (\"Now you have cats: \")\n# for i in range(len(cat_names)):\n#     print (\"The cat \" + str(i) + \" is \" + cat_names[i])\nfor name in cat_names:\n   print (' ' + name)",
      "execution_count": null,
      "outputs": []
    },
    {
      "metadata": {
        "trusted": true
      },
      "cell_type": "code",
      "source": "message = 'It was a bright cold day in April, and the clocks were striking thirteen.'\n\ncount = {}\n\nfor character in message.split(' '):\n    count.setdefault(character, 0)\n    count[character] = count[character] + 1\n\nprint (count)",
      "execution_count": 2,
      "outputs": [
        {
          "output_type": "stream",
          "text": "{'It': 1, 'was': 1, 'a': 1, 'bright': 1, 'cold': 1, 'day': 1, 'in': 1, 'April,': 1, 'and': 1, 'the': 1, 'clocks': 1, 'were': 1, 'striking': 1, 'thirteen.': 1}\n",
          "name": "stdout"
        }
      ]
    },
    {
      "metadata": {
        "trusted": true
      },
      "cell_type": "code",
      "source": "message.split(' ')",
      "execution_count": 3,
      "outputs": [
        {
          "output_type": "execute_result",
          "execution_count": 3,
          "data": {
            "text/plain": "['It',\n 'was',\n 'a',\n 'bright',\n 'cold',\n 'day',\n 'in',\n 'April,',\n 'and',\n 'the',\n 'clocks',\n 'were',\n 'striking',\n 'thirteen.']"
          },
          "metadata": {}
        }
      ]
    },
    {
      "metadata": {
        "trusted": true
      },
      "cell_type": "code",
      "source": "import pprint\n\nmessage = 'It was a bright cold day in April, and the clocks were striking thirteen. It was also cold in march'\n\ncount = {}\n\nfor character in message.split(' '):\n    count.setdefault(character, 0)\n    count[character] = count[character] + 1\n\npprint.pprint (count)",
      "execution_count": 6,
      "outputs": [
        {
          "output_type": "stream",
          "text": "{'April,': 1,\n 'It': 2,\n 'a': 1,\n 'also': 1,\n 'and': 1,\n 'bright': 1,\n 'clocks': 1,\n 'cold': 2,\n 'day': 1,\n 'in': 2,\n 'march': 1,\n 'striking': 1,\n 'the': 1,\n 'thirteen.': 1,\n 'was': 2,\n 'were': 1}\n",
          "name": "stdout"
        }
      ]
    },
    {
      "metadata": {
        "trusted": true
      },
      "cell_type": "code",
      "source": "theBoard = {'top-L': ' ', 'top-M': ' ', 'top-R': ' ', 'mid-L': ' ', 'mid-M': ' ',\\\n 'mid-R': ' ', 'low-L': ' ', 'low-M': ' ', 'low-R': ' '}\n\ndef printBoard(board):\n    print(board['top-L'] + '|' + board['top-M'] + '|' + board['top-R'])\n    print('-+-+-')\n    print(board['mid-L'] + '|' + board['mid-M'] + '|' + board['mid-R'])\n    print('-+-+-')\n    print(board['low-L'] + '|' + board['low-M'] + '|' + board['low-R'])\n\n\nturn = 'X'\nfor i in range(9):\n    printBoard(theBoard)\n    print ('Turn for ' + turn + '. Move on which space?')\n    move = input()\n    theBoard[move] = turn\n    if turn == 'X':\n        turn = '0'\n    else:\n        turn = 'X'\nprintBoard(theBoard)",
      "execution_count": 7,
      "outputs": [
        {
          "output_type": "stream",
          "text": " | | \n-+-+-\n | | \n-+-+-\n | | \nTurn for X. Move on which space?\ntop-L\nX| | \n-+-+-\n | | \n-+-+-\n | | \nTurn for 0. Move on which space?\ntop-M\nX|0| \n-+-+-\n | | \n-+-+-\n | | \nTurn for X. Move on which space?\nTOP-R\nX|0| \n-+-+-\n | | \n-+-+-\n | | \nTurn for 0. Move on which space?\nlow-R\nX|0| \n-+-+-\n | | \n-+-+-\n | |0\nTurn for X. Move on which space?\nlow-M\nX|0| \n-+-+-\n | | \n-+-+-\n |X|0\nTurn for 0. Move on which space?\nLow-R\nX|0| \n-+-+-\n | | \n-+-+-\n |X|0\nTurn for X. Move on which space?\nlow=L\nX|0| \n-+-+-\n | | \n-+-+-\n |X|0\nTurn for 0. Move on which space?\nmid-L\nX|0| \n-+-+-\n0| | \n-+-+-\n |X|0\nTurn for X. Move on which space?\nmid-R\nX|0| \n-+-+-\n0| |X\n-+-+-\n |X|0\n",
          "name": "stdout"
        }
      ]
    },
    {
      "metadata": {
        "trusted": true
      },
      "cell_type": "code",
      "source": "allGuests = {\n    'Alice': {'apples': 5, 'pretzels': 12},\n    'Bob': {'ham sandwiches': 3, 'apples': 2},\n    'Carol': {'cups': 3, 'apple pies': 1}\n    }\n\ndef totalBrought(guests, item):\n    numBrought = 0\n    for k, v in guests.items():\n        numBrought = numBrought + v.get(item, 0)\n    return numBrought\n\nprint('Number of things being brought:')\nprint(' - Apples ' + str(totalBrought(allGuests, 'apples')))\nprint(' - Cups ' + str(totalBrought(allGuests, 'cups')))\nprint(' - Cakes ' + str(totalBrought(allGuests, 'cakes')))\nprint(' - Ham Sandwiches ' + str(totalBrought(allGuests, 'ham sandwiches')))\nprint(' - Apple Pies ' + str(totalBrought(allGuests, 'apple pies')))",
      "execution_count": 9,
      "outputs": [
        {
          "output_type": "stream",
          "text": "Number of things being brought:\n - Apples 7\n - Cups 3\n - Cakes 0\n - Ham Sandwiches 3\n - Apple Pies 1\n",
          "name": "stdout"
        }
      ]
    },
    {
      "metadata": {
        "trusted": true
      },
      "cell_type": "code",
      "source": "dic = {\"A\":1, \"B\":2} \nprint(dic.get(\"A\")) \nprint(dic.get(\"C\")) \nprint(dic.get(\"C\",\"Not Found ! \")) \n",
      "execution_count": 10,
      "outputs": [
        {
          "output_type": "stream",
          "text": "1\nNone\nNot Found ! \n",
          "name": "stdout"
        }
      ]
    },
    {
      "metadata": {
        "trusted": true
      },
      "cell_type": "code",
      "source": "dic[\"A\"]",
      "execution_count": 15,
      "outputs": [
        {
          "output_type": "execute_result",
          "execution_count": 15,
          "data": {
            "text/plain": "1"
          },
          "metadata": {}
        }
      ]
    },
    {
      "metadata": {
        "trusted": true
      },
      "cell_type": "code",
      "source": "def joshi(idic, xxx):\n    for k,v in idic.items():\n        #print(k,\"---------------------------\",v)\n        for k1,v1 in v.items():\n            if xxx==k1:\n                print(k1,\"$$$$$$$$$$$$$$$$$$$$$$$$\",v1)\n\n\n    ",
      "execution_count": 29,
      "outputs": []
    },
    {
      "metadata": {
        "trusted": true
      },
      "cell_type": "code",
      "source": "joshi(allGuests, 'apples')",
      "execution_count": 31,
      "outputs": [
        {
          "output_type": "stream",
          "text": "apples $$$$$$$$$$$$$$$$$$$$$$$$ 5\napples $$$$$$$$$$$$$$$$$$$$$$$$ 2\n",
          "name": "stdout"
        }
      ]
    },
    {
      "metadata": {
        "trusted": true
      },
      "cell_type": "code",
      "source": "import os\nos.path.join('usr', 'bin', 'spam')",
      "execution_count": 32,
      "outputs": [
        {
          "output_type": "execute_result",
          "execution_count": 32,
          "data": {
            "text/plain": "'usr/bin/spam'"
          },
          "metadata": {}
        }
      ]
    },
    {
      "metadata": {
        "trusted": true
      },
      "cell_type": "code",
      "source": "pwd",
      "execution_count": 33,
      "outputs": [
        {
          "output_type": "execute_result",
          "execution_count": 33,
          "data": {
            "text/plain": "'/home/nbuser/library'"
          },
          "metadata": {}
        }
      ]
    },
    {
      "metadata": {
        "trusted": true
      },
      "cell_type": "code",
      "source": "my_files = ['account.txt', 'detail.csv', 'invite.docx']\nfor filename in my_files:\n    print (os.path.join('/Users/xu/Udacity/Automate_the_Boring_Stuff_with_Python_Solutions/8_Reading_and_Writing_Files', filename))",
      "execution_count": 34,
      "outputs": [
        {
          "output_type": "stream",
          "text": "/Users/xu/Udacity/Automate_the_Boring_Stuff_with_Python_Solutions/8_Reading_and_Writing_Files/account.txt\n/Users/xu/Udacity/Automate_the_Boring_Stuff_with_Python_Solutions/8_Reading_and_Writing_Files/detail.csv\n/Users/xu/Udacity/Automate_the_Boring_Stuff_with_Python_Solutions/8_Reading_and_Writing_Files/invite.docx\n",
          "name": "stdout"
        }
      ]
    },
    {
      "metadata": {
        "trusted": true
      },
      "cell_type": "code",
      "source": "os.getcwd()",
      "execution_count": 35,
      "outputs": [
        {
          "output_type": "execute_result",
          "execution_count": 35,
          "data": {
            "text/plain": "'/home/nbuser/library'"
          },
          "metadata": {}
        }
      ]
    },
    {
      "metadata": {
        "trusted": true
      },
      "cell_type": "code",
      "source": "os.chdir('/home/nbuser/')",
      "execution_count": 37,
      "outputs": []
    },
    {
      "metadata": {
        "trusted": true
      },
      "cell_type": "code",
      "source": "os.getcwd()",
      "execution_count": 38,
      "outputs": [
        {
          "output_type": "execute_result",
          "execution_count": 38,
          "data": {
            "text/plain": "'/home/nbuser'"
          },
          "metadata": {}
        }
      ]
    },
    {
      "metadata": {
        "trusted": true
      },
      "cell_type": "code",
      "source": "\nos.makedirs('home/nbuser/library/test_folder2')",
      "execution_count": 41,
      "outputs": [
        {
          "output_type": "error",
          "ename": "FileExistsError",
          "evalue": "[Errno 17] File exists: 'home/nbuser/library/test_folder2'",
          "traceback": [
            "\u001b[0;31m---------------------------------------------------------------------------\u001b[0m",
            "\u001b[0;31mFileExistsError\u001b[0m                           Traceback (most recent call last)",
            "\u001b[0;32m<ipython-input-41-d926d693ab39>\u001b[0m in \u001b[0;36m<module>\u001b[0;34m\u001b[0m\n\u001b[1;32m      1\u001b[0m \u001b[0;34m\u001b[0m\u001b[0m\n\u001b[0;32m----> 2\u001b[0;31m \u001b[0mos\u001b[0m\u001b[0;34m.\u001b[0m\u001b[0mmakedirs\u001b[0m\u001b[0;34m(\u001b[0m\u001b[0;34m'home/nbuser/library/test_folder2'\u001b[0m\u001b[0;34m)\u001b[0m\u001b[0;34m\u001b[0m\u001b[0m\n\u001b[0m",
            "\u001b[0;32m~/anaconda3_501/lib/python3.6/os.py\u001b[0m in \u001b[0;36mmakedirs\u001b[0;34m(name, mode, exist_ok)\u001b[0m\n\u001b[1;32m    218\u001b[0m             \u001b[0;32mreturn\u001b[0m\u001b[0;34m\u001b[0m\u001b[0m\n\u001b[1;32m    219\u001b[0m     \u001b[0;32mtry\u001b[0m\u001b[0;34m:\u001b[0m\u001b[0;34m\u001b[0m\u001b[0m\n\u001b[0;32m--> 220\u001b[0;31m         \u001b[0mmkdir\u001b[0m\u001b[0;34m(\u001b[0m\u001b[0mname\u001b[0m\u001b[0;34m,\u001b[0m \u001b[0mmode\u001b[0m\u001b[0;34m)\u001b[0m\u001b[0;34m\u001b[0m\u001b[0m\n\u001b[0m\u001b[1;32m    221\u001b[0m     \u001b[0;32mexcept\u001b[0m \u001b[0mOSError\u001b[0m\u001b[0;34m:\u001b[0m\u001b[0;34m\u001b[0m\u001b[0m\n\u001b[1;32m    222\u001b[0m         \u001b[0;31m# Cannot rely on checking for EEXIST, since the operating system\u001b[0m\u001b[0;34m\u001b[0m\u001b[0;34m\u001b[0m\u001b[0m\n",
            "\u001b[0;31mFileExistsError\u001b[0m: [Errno 17] File exists: 'home/nbuser/library/test_folder2'"
          ]
        }
      ]
    },
    {
      "metadata": {
        "trusted": true
      },
      "cell_type": "code",
      "source": "os.path.abspath('.')\n",
      "execution_count": 42,
      "outputs": [
        {
          "output_type": "execute_result",
          "execution_count": 42,
          "data": {
            "text/plain": "'/home/nbuser'"
          },
          "metadata": {}
        }
      ]
    },
    {
      "metadata": {
        "trusted": true
      },
      "cell_type": "code",
      "source": "hello_file = open('/home/nbuser/library/hello.txt')\n",
      "execution_count": 45,
      "outputs": []
    },
    {
      "metadata": {
        "trusted": true
      },
      "cell_type": "code",
      "source": "hello_content = hello_file.read()\nhello_content",
      "execution_count": 46,
      "outputs": [
        {
          "output_type": "execute_result",
          "execution_count": 46,
          "data": {
            "text/plain": "'Hello world!\\n'"
          },
          "metadata": {}
        }
      ]
    },
    {
      "metadata": {
        "trusted": true
      },
      "cell_type": "code",
      "source": "sonnet_file = open('/home/nbuser/library/sonnet29.txt')\n",
      "execution_count": 58,
      "outputs": []
    },
    {
      "metadata": {
        "trusted": true
      },
      "cell_type": "code",
      "source": "sonnet_file.readlines()",
      "execution_count": 59,
      "outputs": [
        {
          "output_type": "execute_result",
          "execution_count": 59,
          "data": {
            "text/plain": "[\"When, in disgrace with fortune and men's eyes,\\n\",\n 'I all alone beweep my outcast state,\\n',\n 'And trouble deaf heaven with my bootless cries,\\n',\n 'And look upon myself and curse my fate,\\n']"
          },
          "metadata": {}
        }
      ]
    },
    {
      "metadata": {
        "trusted": true
      },
      "cell_type": "code",
      "source": "bacon_file = open('bacon.txt', 'w')",
      "execution_count": 61,
      "outputs": []
    },
    {
      "metadata": {
        "trusted": true
      },
      "cell_type": "code",
      "source": "ls",
      "execution_count": 62,
      "outputs": [
        {
          "output_type": "stream",
          "text": "\u001b[0m\u001b[01;34manaconda2_501\u001b[0m/  \u001b[01;34manaconda3_501\u001b[0m/  \u001b[01;34mhome\u001b[0m/     \u001b[01;34mlibrary\u001b[0m/\r\n\u001b[01;34manaconda3_420\u001b[0m/  bacon.txt       \u001b[01;34mIfSharp\u001b[0m/  \u001b[01;34mR\u001b[0m/\r\n",
          "name": "stdout"
        }
      ]
    },
    {
      "metadata": {
        "trusted": true
      },
      "cell_type": "code",
      "source": "os.chdir('/home/nbuser/library')",
      "execution_count": 63,
      "outputs": []
    },
    {
      "metadata": {
        "trusted": true
      },
      "cell_type": "code",
      "source": "ls",
      "execution_count": 64,
      "outputs": [
        {
          "output_type": "stream",
          "text": "11_22_18_Automate_the_boring_Stuff_with_Python_tamal.ipynb\r\nautomate the boring stuffs Rumana.ipnyb\r\nautomate the boring stuffs RUMANA.ipynb\r\nbacon.txt\r\nfile one.ipynb\r\nhello.txt\r\nhome work.ipynb\r\nnew\r\nnew2.ipnyb\r\npythonpractice.ipynb\r\nreadme2.md\r\nREADME2.md.ipynb\r\nREADME.md\r\nsonnet29.txt\r\nUntitled.ipynb\r\n",
          "name": "stdout"
        }
      ]
    },
    {
      "metadata": {
        "trusted": true
      },
      "cell_type": "code",
      "source": "bacon_file.write('Hello world!\\n')\n",
      "execution_count": 65,
      "outputs": [
        {
          "output_type": "execute_result",
          "execution_count": 65,
          "data": {
            "text/plain": "13"
          },
          "metadata": {}
        }
      ]
    },
    {
      "metadata": {
        "trusted": true
      },
      "cell_type": "code",
      "source": "bacon_file.close()\n",
      "execution_count": 66,
      "outputs": []
    },
    {
      "metadata": {
        "trusted": true
      },
      "cell_type": "code",
      "source": "bacon_file = open('bacon.txt', 'a')",
      "execution_count": 67,
      "outputs": []
    },
    {
      "metadata": {
        "trusted": true
      },
      "cell_type": "code",
      "source": "bacon_file.write('chicken is note a vegetable. ')",
      "execution_count": 69,
      "outputs": [
        {
          "output_type": "execute_result",
          "execution_count": 69,
          "data": {
            "text/plain": "29"
          },
          "metadata": {}
        }
      ]
    },
    {
      "metadata": {
        "trusted": true
      },
      "cell_type": "code",
      "source": "bacon_file.close()\n",
      "execution_count": 70,
      "outputs": []
    },
    {
      "metadata": {
        "trusted": true
      },
      "cell_type": "code",
      "source": "bacon_file.close()\n",
      "execution_count": 71,
      "outputs": []
    },
    {
      "metadata": {
        "trusted": true
      },
      "cell_type": "code",
      "source": "bacon_file = open('bacon.txt')",
      "execution_count": 72,
      "outputs": []
    },
    {
      "metadata": {
        "trusted": true
      },
      "cell_type": "code",
      "source": "content = bacon_file.read()\n",
      "execution_count": 73,
      "outputs": []
    },
    {
      "metadata": {
        "trusted": true
      },
      "cell_type": "code",
      "source": "print (content)\n",
      "execution_count": 74,
      "outputs": [
        {
          "output_type": "stream",
          "text": "Hello world!\nBacon is note a vegetable. Bacon is note a vegetable. chicken is note a vegetable. \n",
          "name": "stdout"
        }
      ]
    },
    {
      "metadata": {
        "trusted": true
      },
      "cell_type": "code",
      "source": "bacon_file.close()\n",
      "execution_count": 75,
      "outputs": []
    },
    {
      "metadata": {
        "trusted": true
      },
      "cell_type": "code",
      "source": "import shelve\nshelf_file = shelve.open('mydata')\ncats = ['Zophie', 'Pooka', 'Simon']\nshelf_file['cats'] = cats\nshelf_file.close()",
      "execution_count": 76,
      "outputs": []
    },
    {
      "metadata": {
        "trusted": true
      },
      "cell_type": "code",
      "source": "ls",
      "execution_count": 77,
      "outputs": [
        {
          "output_type": "stream",
          "text": "11_22_18_Automate_the_boring_Stuff_with_Python_tamal.ipynb\r\nautomate the boring stuffs Rumana.ipnyb\r\nautomate the boring stuffs RUMANA.ipynb\r\nbacon.txt\r\nfile one.ipynb\r\nhello.txt\r\nhome work.ipynb\r\nmydata.bak\r\nmydata.dat\r\nmydata.dir\r\nnew\r\nnew2.ipnyb\r\npythonpractice.ipynb\r\nreadme2.md\r\nREADME2.md.ipynb\r\nREADME.md\r\nsonnet29.txt\r\nUntitled.ipynb\r\n",
          "name": "stdout"
        }
      ]
    },
    {
      "metadata": {
        "trusted": true
      },
      "cell_type": "code",
      "source": "shelf_file = shelve.open('mydata')\n",
      "execution_count": 78,
      "outputs": []
    },
    {
      "metadata": {
        "trusted": true
      },
      "cell_type": "code",
      "source": "type(shelf_file)\n",
      "execution_count": 79,
      "outputs": [
        {
          "output_type": "execute_result",
          "execution_count": 79,
          "data": {
            "text/plain": "shelve.DbfilenameShelf"
          },
          "metadata": {}
        }
      ]
    },
    {
      "metadata": {
        "trusted": true
      },
      "cell_type": "code",
      "source": "shelf_file['cats']\n",
      "execution_count": 80,
      "outputs": [
        {
          "output_type": "execute_result",
          "execution_count": 80,
          "data": {
            "text/plain": "['Zophie', 'Pooka', 'Simon']"
          },
          "metadata": {}
        }
      ]
    },
    {
      "metadata": {
        "trusted": true
      },
      "cell_type": "code",
      "source": "shelf_file.close()\n",
      "execution_count": 81,
      "outputs": []
    },
    {
      "metadata": {
        "trusted": true
      },
      "cell_type": "code",
      "source": "shelf_file = shelve.open('mydata')\nlist(shelf_file.keys())",
      "execution_count": 82,
      "outputs": [
        {
          "output_type": "execute_result",
          "execution_count": 82,
          "data": {
            "text/plain": "['cats']"
          },
          "metadata": {}
        }
      ]
    },
    {
      "metadata": {
        "trusted": true
      },
      "cell_type": "code",
      "source": "list(shelf_file.values())\n",
      "execution_count": 83,
      "outputs": [
        {
          "output_type": "execute_result",
          "execution_count": 83,
          "data": {
            "text/plain": "[['Zophie', 'Pooka', 'Simon']]"
          },
          "metadata": {}
        }
      ]
    },
    {
      "metadata": {
        "trusted": true
      },
      "cell_type": "code",
      "source": "shelf_file.close()\n",
      "execution_count": 84,
      "outputs": []
    },
    {
      "metadata": {
        "trusted": true
      },
      "cell_type": "code",
      "source": "import pprint\ncats = [{'name':'Zophie', 'desc':'chubby'}, {'name': 'Pooka', 'desc':'fluffy'}]\npprint.pformat(cats)",
      "execution_count": 85,
      "outputs": [
        {
          "output_type": "execute_result",
          "execution_count": 85,
          "data": {
            "text/plain": "\"[{'desc': 'chubby', 'name': 'Zophie'}, {'desc': 'fluffy', 'name': 'Pooka'}]\""
          },
          "metadata": {}
        }
      ]
    },
    {
      "metadata": {
        "trusted": true
      },
      "cell_type": "code",
      "source": "file_obj = open('my_cats.py', 'w')\nfile_obj.write('cats = ' + pprint.pformat(cats) + '\\n')",
      "execution_count": 86,
      "outputs": [
        {
          "output_type": "execute_result",
          "execution_count": 86,
          "data": {
            "text/plain": "83"
          },
          "metadata": {}
        }
      ]
    },
    {
      "metadata": {
        "trusted": true
      },
      "cell_type": "code",
      "source": "file_obj.close()\n",
      "execution_count": 87,
      "outputs": []
    },
    {
      "metadata": {
        "trusted": true
      },
      "cell_type": "code",
      "source": "ls",
      "execution_count": 88,
      "outputs": [
        {
          "output_type": "stream",
          "text": "11_22_18_Automate_the_boring_Stuff_with_Python_tamal.ipynb\r\nautomate the boring stuffs Rumana.ipnyb\r\nautomate the boring stuffs RUMANA.ipynb\r\nbacon.txt\r\nfile one.ipynb\r\nhello.txt\r\nhome work.ipynb\r\nmy_cats.py\r\nmydata.bak\r\nmydata.dat\r\nmydata.dir\r\nnew\r\nnew2.ipnyb\r\npythonpractice.ipynb\r\nreadme2.md\r\nREADME2.md.ipynb\r\nREADME.md\r\nsonnet29.txt\r\nUntitled.ipynb\r\n",
          "name": "stdout"
        }
      ]
    },
    {
      "metadata": {
        "trusted": true
      },
      "cell_type": "code",
      "source": "cat my_cats.py\n",
      "execution_count": 89,
      "outputs": [
        {
          "output_type": "stream",
          "text": "cats = [{'desc': 'chubby', 'name': 'Zophie'}, {'desc': 'fluffy', 'name': 'Pooka'}]\r\n",
          "name": "stdout"
        }
      ]
    },
    {
      "metadata": {
        "trusted": true
      },
      "cell_type": "code",
      "source": "import sys\nsys.path.insert(0,'/home/nbuser/library/')\n\n\nimport my_cats\nmy_cats.cats",
      "execution_count": 107,
      "outputs": [
        {
          "output_type": "execute_result",
          "execution_count": 107,
          "data": {
            "text/plain": "[{'desc': 'chubby', 'name': 'Zophie'}, {'desc': 'fluffy', 'name': 'Pooka'}]"
          },
          "metadata": {}
        }
      ]
    },
    {
      "metadata": {
        "trusted": true
      },
      "cell_type": "code",
      "source": "pwd",
      "execution_count": 101,
      "outputs": [
        {
          "output_type": "execute_result",
          "execution_count": 101,
          "data": {
            "text/plain": "'/home/nbuser/library'"
          },
          "metadata": {}
        }
      ]
    },
    {
      "metadata": {
        "trusted": true
      },
      "cell_type": "code",
      "source": "my_cats.cats[0]\n",
      "execution_count": 108,
      "outputs": [
        {
          "output_type": "execute_result",
          "execution_count": 108,
          "data": {
            "text/plain": "{'desc': 'chubby', 'name': 'Zophie'}"
          },
          "metadata": {}
        }
      ]
    },
    {
      "metadata": {
        "trusted": true
      },
      "cell_type": "code",
      "source": "my_cats.cats[0]['name']\n",
      "execution_count": 109,
      "outputs": [
        {
          "output_type": "execute_result",
          "execution_count": 109,
          "data": {
            "text/plain": "'Zophie'"
          },
          "metadata": {}
        }
      ]
    },
    {
      "metadata": {
        "trusted": true
      },
      "cell_type": "code",
      "source": "import random\n\ncapitals = {'Alabama': 'Montgomery', 'Alaska': 'Juneau', 'Arizona': 'Phoenix', 'Arkansas': 'Little Rock', 'California': 'Sacramento', 'Colorado': 'Denver', 'Connecticut': 'Hartford', 'Delaware': 'Dover', 'Florida': 'Tallahassee', 'Georgia': 'Atlanta', 'Hawaii': 'Honolulu', 'Idaho': 'Boise', 'Illinois': 'Springfield', 'Indiana': 'Indianapolis', 'Iowa': 'Des Moines', 'Kansas': 'Topeka', 'Kentucky': 'Frankfort', 'Louisiana': 'Baton Rouge', 'Maine': 'Augusta', 'Maryland': 'Annapolis', 'Massachusetts': 'Boston', 'Michigan': 'Lansing', 'Minnesota': 'Saint Paul', 'Mississippi': 'Jackson', 'Missouri': 'Jefferson City', 'Montana': 'Helena', 'Nebraska': 'Lincoln', 'Nevada': 'Carson City', 'New Hampshire': 'Concord', 'New Jersey': 'Trenton', 'New Mexico': 'Santa Fe', 'New York': 'Albany', 'North Carolina': 'Raleigh', 'North Dakota': 'Bismarck', 'Ohio': 'Columbus', 'Oklahoma': 'Oklahoma City', 'Oregon': 'Salem', 'Pennsylvania': 'Harrisburg', 'Rhode Island': 'Providence', 'South Carolina': 'Columbia', 'South Dakota': 'Pierre', 'Tennessee': 'Nashville', 'Texas': 'Austin', 'Utah': 'Salt Lake City', 'Vermont': 'Montpelier', 'Virginia': 'Richmond', 'Washington': 'Olympia', 'West Virginia': 'Charleston', 'Wisconsin': 'Madison', 'Wyoming': 'Cheyenne'}\n\nstates = list(capitals.keys())",
      "execution_count": 110,
      "outputs": []
    },
    {
      "metadata": {
        "trusted": true
      },
      "cell_type": "code",
      "source": "random.shuffle(states)\nstates[:5]",
      "execution_count": 111,
      "outputs": [
        {
          "output_type": "execute_result",
          "execution_count": 111,
          "data": {
            "text/plain": "['Wisconsin', 'Iowa', 'Maryland', 'Nevada', 'Wyoming']"
          },
          "metadata": {}
        }
      ]
    },
    {
      "metadata": {
        "trusted": true
      },
      "cell_type": "code",
      "source": "random.shuffle(states)\nstates[:5]",
      "execution_count": 112,
      "outputs": [
        {
          "output_type": "execute_result",
          "execution_count": 112,
          "data": {
            "text/plain": "['Iowa', 'West Virginia', 'South Carolina', 'Nevada', 'Vermont']"
          },
          "metadata": {}
        }
      ]
    },
    {
      "metadata": {
        "trusted": true
      },
      "cell_type": "code",
      "source": "wrong_answers = list(capitals.values())\nwrong_answers[:5]",
      "execution_count": 113,
      "outputs": [
        {
          "output_type": "execute_result",
          "execution_count": 113,
          "data": {
            "text/plain": "['Montgomery', 'Juneau', 'Phoenix', 'Little Rock', 'Sacramento']"
          },
          "metadata": {}
        }
      ]
    },
    {
      "metadata": {
        "trusted": true
      },
      "cell_type": "code",
      "source": "wrong_answers = random.sample(wrong_answers, 3)\nwrong_answers[:5]",
      "execution_count": 114,
      "outputs": [
        {
          "output_type": "execute_result",
          "execution_count": 114,
          "data": {
            "text/plain": "['Boise', 'Honolulu', 'Austin']"
          },
          "metadata": {}
        }
      ]
    },
    {
      "metadata": {
        "trusted": true
      },
      "cell_type": "code",
      "source": "for i in range(4):\n    print ('ABCD'[i])",
      "execution_count": 115,
      "outputs": [
        {
          "output_type": "stream",
          "text": "A\nB\nC\nD\n",
          "name": "stdout"
        }
      ]
    },
    {
      "metadata": {
        "trusted": true
      },
      "cell_type": "code",
      "source": "'ABCD'[3]\n",
      "execution_count": 116,
      "outputs": [
        {
          "output_type": "execute_result",
          "execution_count": 116,
          "data": {
            "text/plain": "'D'"
          },
          "metadata": {}
        }
      ]
    },
    {
      "metadata": {
        "trusted": true
      },
      "cell_type": "code",
      "source": "import os\nos.listdir()",
      "execution_count": 117,
      "outputs": [
        {
          "output_type": "execute_result",
          "execution_count": 117,
          "data": {
            "text/plain": "['mydata.bak',\n 'file one.ipynb',\n 'Untitled.ipynb',\n 'readme2.md',\n 'bacon.txt',\n 'home work.ipynb',\n '__init__.py',\n 'pythonpractice.ipynb',\n '__pycache__',\n '11_22_18_Automate_the_boring_Stuff_with_Python_tamal.ipynb',\n 'automate the boring stuffs RUMANA.ipynb',\n 'mydata.dat',\n 'my_cats.py',\n 'sonnet29.txt',\n 'mydata.dir',\n 'README.md',\n 'hello.txt',\n '.ipynb_checkpoints',\n 'README2.md.ipynb',\n 'automate the boring stuffs Rumana.ipnyb',\n 'new',\n 'new2.ipnyb']"
          },
          "metadata": {}
        }
      ]
    },
    {
      "metadata": {
        "trusted": true
      },
      "cell_type": "code",
      "source": "for file_name in os.listdir():\n    if file_name.endswith('.txt'):\n        #os.unlink(file_name)\n        print (file_name)",
      "execution_count": 121,
      "outputs": [
        {
          "output_type": "stream",
          "text": "bacon.txt\nsonnet29.txt\nhello.txt\n",
          "name": "stdout"
        }
      ]
    },
    {
      "metadata": {
        "trusted": true
      },
      "cell_type": "code",
      "source": "os.path.abspath('.')",
      "execution_count": 122,
      "outputs": [
        {
          "output_type": "execute_result",
          "execution_count": 122,
          "data": {
            "text/plain": "'/home/nbuser/library'"
          },
          "metadata": {}
        }
      ]
    },
    {
      "metadata": {
        "trusted": true
      },
      "cell_type": "code",
      "source": "import send2trash",
      "execution_count": 123,
      "outputs": []
    },
    {
      "metadata": {
        "trusted": true
      },
      "cell_type": "code",
      "source": "bacon_file = open('bacon.txt', 'a') # create the file",
      "execution_count": 124,
      "outputs": []
    },
    {
      "metadata": {
        "trusted": true
      },
      "cell_type": "code",
      "source": "ls",
      "execution_count": 125,
      "outputs": [
        {
          "output_type": "stream",
          "text": "11_22_18_Automate_the_boring_Stuff_with_Python_tamal.ipynb\r\nautomate the boring stuffs Rumana.ipnyb\r\nautomate the boring stuffs RUMANA.ipynb\r\nbacon.txt\r\nfile one.ipynb\r\nhello.txt\r\nhome work.ipynb\r\n__init__.py\r\nmy_cats.py\r\nmydata.bak\r\nmydata.dat\r\nmydata.dir\r\nnew\r\nnew2.ipnyb\r\n\u001b[0m\u001b[01;34m__pycache__\u001b[0m/\r\npythonpractice.ipynb\r\nreadme2.md\r\nREADME2.md.ipynb\r\nREADME.md\r\nsonnet29.txt\r\nUntitled.ipynb\r\n",
          "name": "stdout"
        }
      ]
    },
    {
      "metadata": {
        "trusted": true
      },
      "cell_type": "code",
      "source": "bacon_file.write('Bacon is note a vegetable.')",
      "execution_count": 126,
      "outputs": [
        {
          "output_type": "execute_result",
          "execution_count": 126,
          "data": {
            "text/plain": "26"
          },
          "metadata": {}
        }
      ]
    },
    {
      "metadata": {
        "trusted": true
      },
      "cell_type": "code",
      "source": "bacon_file.close()",
      "execution_count": 127,
      "outputs": []
    },
    {
      "metadata": {
        "trusted": true
      },
      "cell_type": "code",
      "source": "ls",
      "execution_count": 128,
      "outputs": [
        {
          "output_type": "stream",
          "text": "11_22_18_Automate_the_boring_Stuff_with_Python_tamal.ipynb\r\nautomate the boring stuffs Rumana.ipnyb\r\nautomate the boring stuffs RUMANA.ipynb\r\nbacon.txt\r\nfile one.ipynb\r\nhello.txt\r\nhome work.ipynb\r\n__init__.py\r\nmy_cats.py\r\nmydata.bak\r\nmydata.dat\r\nmydata.dir\r\nnew\r\nnew2.ipnyb\r\n\u001b[0m\u001b[01;34m__pycache__\u001b[0m/\r\npythonpractice.ipynb\r\nreadme2.md\r\nREADME2.md.ipynb\r\nREADME.md\r\nsonnet29.txt\r\nUntitled.ipynb\r\n",
          "name": "stdout"
        }
      ]
    },
    {
      "metadata": {
        "trusted": true
      },
      "cell_type": "code",
      "source": "pwd",
      "execution_count": 129,
      "outputs": [
        {
          "output_type": "execute_result",
          "execution_count": 129,
          "data": {
            "text/plain": "'/home/nbuser/library'"
          },
          "metadata": {}
        }
      ]
    },
    {
      "metadata": {
        "trusted": true
      },
      "cell_type": "code",
      "source": "import os\n\nfor folder_name, sub_folders, file_names in os.walk('/Users/xu/Udacity/Automate_the_Boring_Stuff_with_Python_Solutions'):\n    print ('The current folder is ' + folder_name)\n    \n    for sub_folder in sub_folders:\n        print ('SUBFOLDER OF ' + folder_name + ': ' + sub_folder)\n    for file_name in file_names:\n        print ('FILE INSIDE ' + folder_name + ': ' + file_name)\n    \n    print ('')",
      "execution_count": 130,
      "outputs": []
    },
    {
      "metadata": {
        "trusted": true
      },
      "cell_type": "code",
      "source": "pwd",
      "execution_count": 131,
      "outputs": [
        {
          "output_type": "execute_result",
          "execution_count": 131,
          "data": {
            "text/plain": "'/home/nbuser/library'"
          },
          "metadata": {}
        }
      ]
    },
    {
      "metadata": {
        "trusted": true
      },
      "cell_type": "code",
      "source": "",
      "execution_count": null,
      "outputs": []
    }
  ],
  "metadata": {
    "kernelspec": {
      "name": "python36",
      "display_name": "Python 3.6",
      "language": "python"
    },
    "language_info": {
      "mimetype": "text/x-python",
      "nbconvert_exporter": "python",
      "name": "python",
      "pygments_lexer": "ipython3",
      "version": "3.6.6",
      "file_extension": ".py",
      "codemirror_mode": {
        "version": 3,
        "name": "ipython"
      }
    }
  },
  "nbformat": 4,
  "nbformat_minor": 2
}