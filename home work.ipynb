{
  "cells": [
    {
      "metadata": {
        "trusted": true
      },
      "cell_type": "code",
      "source": "print(\"Hello World!\")\nprint(\"Hello Again\")\nprint(\"I like typing this.\")\nprint(\"This is fun.\")\nprint('Yay! Printing.')\nprint(\"I'd much rather you 'not'.\")\nprint('I \"said\" do not touch this.')",
      "execution_count": 1,
      "outputs": [
        {
          "output_type": "stream",
          "text": "Hello World!\nHello Again\nI like typing this.\nThis is fun.\nYay! Printing.\nI'd much rather you 'not'.\nI \"said\" do not touch this.\n",
          "name": "stdout"
        }
      ]
    },
    {
      "metadata": {
        "trusted": true
      },
      "cell_type": "code",
      "source": "print(\"hello new york\")",
      "execution_count": 2,
      "outputs": [
        {
          "output_type": "stream",
          "text": "hello new york\n",
          "name": "stdout"
        }
      ]
    },
    {
      "metadata": {
        "trusted": true
      },
      "cell_type": "code",
      "source": "print(\"my name is rumana\")\nprint(\"i love my mom\")\nprint('fhjhuhfd')\n",
      "execution_count": 2,
      "outputs": [
        {
          "output_type": "stream",
          "text": "my name is rumana\ni love my mom\nfhjhuhfd\n",
          "name": "stdout"
        }
      ]
    },
    {
      "metadata": {
        "trusted": true
      },
      "cell_type": "code",
      "source": "# A comment, this is so you can read your program later.\n# Anything after the # is ignored by pyhton.\n\nprint(\"I could have code like this.\")  # and the comment after is ignored\n\n# You can also use a comment to \"disable\" or comment out a piece of code:\n# print (\"This won't run.\")\n\nprint(\"This will run.\")",
      "execution_count": 7,
      "outputs": [
        {
          "output_type": "stream",
          "text": "I could have code like this.\n",
          "name": "stdout"
        }
      ]
    },
    {
      "metadata": {
        "trusted": true
      },
      "cell_type": "code",
      "source": "print(\"im good\")#\n",
      "execution_count": null,
      "outputs": []
    },
    {
      "metadata": {
        "trusted": true,
        "scrolled": true
      },
      "cell_type": "code",
      "source": "print(\"I will now count my chickens:\")\n\nprint(\"Hens\", 25 + 30 / 6)\nprint(\"Rosters\", 100 - 25 * 3 % 4)\n\nprint(\"Now I will count the eggs:\")\n\nprint(round(3 + 2 + 1 - 5 + 4 % 2 - 1 / 4 + 6))\n\nprint(\"Is it true that 3 + 2 < 5 - 7?\")\n\nprint(3 + 2 < 5 - 7)\n\nprint(\"What is 3 + 2?\", 3 + 2)\nprint(\"What is 5 - 7?\", 5 - 7)\n\nprint(\"Oh, that's why it's False.\")\n\nprint(\"How about some more.\")\n\nprint(\"It is greater?\", 5 > -2)\nprint(\"It is greater or equal?\", 5 >= -2)\nprint(\"It is less or equal?\", 5 <= -2)",
      "execution_count": 8,
      "outputs": [
        {
          "output_type": "stream",
          "text": "I will now count my chickens:\nHens 30.0\nRosters 97\nNow I will count the eggs:\n7\nIs it true that 3 + 2 < 5 - 7?\nFalse\nWhat is 3 + 2? 5\nWhat is 5 - 7? -2\nOh, that's why it's False.\nHow about some more.\nIt is greater? True\nIt is greater or equal? True\nIt is less or equal? False\n",
          "name": "stdout"
        }
      ]
    },
    {
      "metadata": {
        "trusted": true
      },
      "cell_type": "code",
      "source": "i = 0\nnumbers = []\n\nwhile i < 6:\n\n    print(f\"At the top i is {i}\")\n    numbers.append(i)\n\n    i = i + 1\n    print(\"Numbers now: \", numbers)\n    print(f\"At the bottom i is {i}\")\n\nprint(\"The numbers: \")\n\nfor num in numbers:\n    print(num)",
      "execution_count": 18,
      "outputs": [
        {
          "output_type": "stream",
          "text": "At the top i is 0\nNumbers now:  [0]\nAt the bottom i is 1\nAt the top i is 1\nNumbers now:  [0, 1]\nAt the bottom i is 2\nAt the top i is 2\nNumbers now:  [0, 1, 2]\nAt the bottom i is 3\nAt the top i is 3\nNumbers now:  [0, 1, 2, 3]\nAt the bottom i is 4\nAt the top i is 4\nNumbers now:  [0, 1, 2, 3, 4]\nAt the bottom i is 5\nAt the top i is 5\nNumbers now:  [0, 1, 2, 3, 4, 5]\nAt the bottom i is 6\nThe numbers: \n0\n1\n2\n3\n4\n5\n",
          "name": "stdout"
        }
      ]
    },
    {
      "metadata": {
        "trusted": true
      },
      "cell_type": "code",
      "source": "a=1\na=4\nprint(a)",
      "execution_count": 3,
      "outputs": [
        {
          "output_type": "stream",
          "text": "4\n",
          "name": "stdout"
        }
      ]
    },
    {
      "metadata": {
        "trusted": true
      },
      "cell_type": "code",
      "source": "a=5\na=1\nprint(a)",
      "execution_count": 4,
      "outputs": [
        {
          "output_type": "stream",
          "text": "1\n",
          "name": "stdout"
        }
      ]
    },
    {
      "metadata": {
        "trusted": true
      },
      "cell_type": "code",
      "source": "i=1\nwhile i <= 10:\n    print(\"i love python\")\n    i=i+1\n    \n    ",
      "execution_count": 10,
      "outputs": [
        {
          "output_type": "stream",
          "text": "i love python\ni love python\ni love python\ni love python\ni love python\ni love python\ni love python\ni love python\ni love python\ni love python\n",
          "name": "stdout"
        }
      ]
    },
    {
      "metadata": {
        "trusted": true
      },
      "cell_type": "code",
      "source": "i=1\nwhile i<=20:\n    print(\"20\")\n    i+=1",
      "execution_count": 8,
      "outputs": [
        {
          "output_type": "stream",
          "text": "20\n20\n20\n20\n20\n20\n20\n20\n20\n20\n20\n20\n20\n20\n20\n20\n20\n20\n20\n20\n",
          "name": "stdout"
        }
      ]
    },
    {
      "metadata": {
        "trusted": true
      },
      "cell_type": "code",
      "source": "i=1\nwhile i<6:\n    print(i)\n    i+=1\n    ",
      "execution_count": 6,
      "outputs": [
        {
          "output_type": "stream",
          "text": "1\n2\n3\n4\n5\n",
          "name": "stdout"
        }
      ]
    },
    {
      "metadata": {
        "trusted": true
      },
      "cell_type": "code",
      "source": "i=1\nwhile i<=12:\n    print(i)\n    i=i+1\n    ",
      "execution_count": 28,
      "outputs": [
        {
          "output_type": "stream",
          "text": "1\n2\n3\n4\n5\n6\n7\n8\n9\n10\n11\n12\n",
          "name": "stdout"
        }
      ]
    },
    {
      "metadata": {
        "trusted": true
      },
      "cell_type": "code",
      "source": "people = 20\ncats = 30\ndogs = 15\n\nif people < cats:\n    print(\"Too many cats! The world is doomed!\")\n\nif people > cats:\n    print(\"Not many cats! The world is saved!\")\n\nif people < dogs:\n    print(\"The world is drooled on!\")\n\nif people > dogs:\n    print(\"The world is dry!\")\n\ndogs += 5\n\nif people >= dogs:\n    print(\"People are greater than or equal to dogs.\")\n\nif people <= dogs:\n    print(\"People are less than or equal to dogs.\")\n\nif people == dogs:\n    print(\"People are dogs.\")",
      "execution_count": 29,
      "outputs": [
        {
          "output_type": "stream",
          "text": "Too many cats! The world is doomed!\nThe world is dry!\nPeople are greater than or equal to dogs.\nPeople are less than or equal to dogs.\nPeople are dogs.\n",
          "name": "stdout"
        }
      ]
    },
    {
      "metadata": {
        "trusted": true
      },
      "cell_type": "code",
      "source": "age = 15\nif (age<=25):\n    print(\"you are not an adult\")\n",
      "execution_count": 42,
      "outputs": [
        {
          "output_type": "stream",
          "text": "you are not an adult\n",
          "name": "stdout"
        }
      ]
    },
    {
      "metadata": {
        "trusted": true
      },
      "cell_type": "code",
      "source": "car = 20\nbus = 30\ntaxi = 15\n\nif (car <=bus ):\n    print(\"\")\n",
      "execution_count": 43,
      "outputs": [
        {
          "output_type": "stream",
          "text": "\n",
          "name": "stdout"
        }
      ]
    },
    {
      "metadata": {
        "trusted": true
      },
      "cell_type": "code",
      "source": "print(\"there was a man name jone \")\nprint(\"he is 25 years old\")\nprint(\"he liked the name jone\")\nprint(\"he did not like being 25 years old\")",
      "execution_count": 31,
      "outputs": [
        {
          "output_type": "stream",
          "text": "there was a man name jone \nhe is 25 years old\nhe liked the name jone\nhe did not like being 25 years old\n",
          "name": "stdout"
        }
      ]
    },
    {
      "metadata": {
        "trusted": true
      },
      "cell_type": "code",
      "source": "charcter_name =\"shadnan \"\ncharcter_age =\"80\"\nprint(\"there was a man name \" + charcter_name + \",\" )\nprint(\"he is \" + charcter_age +\" years old \" + \",\" )\nprint(\"he liked the name \" + charcter_name + \",\" )\nprint(\"he did not like being \" + charcter_age + \",\" )",
      "execution_count": 32,
      "outputs": [
        {
          "output_type": "stream",
          "text": "there was a man name shadnan ,\nhe is 80 years old ,\nhe liked the name shadnan ,\nhe did not like being 80,\n",
          "name": "stdout"
        }
      ]
    },
    {
      "metadata": {
        "trusted": true
      },
      "cell_type": "code",
      "source": "charcter_name =\"tom \"\ncharcter_age =\"75\"\nprint(\"there was a man name \" + charcter_name + \",\" )\nprint(\"he is \" + charcter_age +\" years old \" + \",\" )\ncharcter_name= \"mike\"\nprint(\"he liked the name \" + charcter_name + \",\" )\nprint(\"but he did not like being \" + charcter_age + \",\" )",
      "execution_count": 35,
      "outputs": [
        {
          "output_type": "stream",
          "text": "there was a man name tom ,\nhe is 75 years old ,\nhe liked the name mike,\nbut he did not like being 75,\n",
          "name": "stdout"
        }
      ]
    },
    {
      "metadata": {
        "trusted": true
      },
      "cell_type": "code",
      "source": "charcter_name =\"priya \"\ncharcter_age =\"90\"\nprint(\"there was a man name \" + charcter_name + \",\" )\nprint(\"he is \" + charcter_age +\" years old \" + \",\" )\ncharcter_name = \"mike\"\nprint(\"he liked the name \" + charcter_name + \",\" )\nprint(\"but he did not like being \" + charcter_age + \",\" )",
      "execution_count": 41,
      "outputs": [
        {
          "output_type": "stream",
          "text": "there was a man name priya ,\nhe is 90 years old ,\nhe liked the name mike,\nbut he did not like being 90,\n",
          "name": "stdout"
        }
      ]
    },
    {
      "metadata": {
        "trusted": true
      },
      "cell_type": "code",
      "source": "print(\"Math Matters Tutoring Center\")",
      "execution_count": 51,
      "outputs": [
        {
          "output_type": "stream",
          "text": "Math Matters Tutoring Center\n",
          "name": "stdout"
        }
      ]
    },
    {
      "metadata": {
        "trusted": true
      },
      "cell_type": "code",
      "source": "print(\"Math\\nMatters\")",
      "execution_count": 52,
      "outputs": [
        {
          "output_type": "stream",
          "text": "Math\nMatters\n",
          "name": "stdout"
        }
      ]
    },
    {
      "metadata": {
        "trusted": true
      },
      "cell_type": "code",
      "source": "print(\"math\\\"matters\")",
      "execution_count": 53,
      "outputs": [
        {
          "output_type": "stream",
          "text": "math\"matters\n",
          "name": "stdout"
        }
      ]
    },
    {
      "metadata": {
        "trusted": true
      },
      "cell_type": "code",
      "source": "phrase=\"Math Matters Tutoring Center\"\nprint(phrase+\" is cool\")",
      "execution_count": 54,
      "outputs": [
        {
          "output_type": "stream",
          "text": "Math Matters Tutoring Center is cool\n",
          "name": "stdout"
        }
      ]
    },
    {
      "metadata": {
        "trusted": true
      },
      "cell_type": "code",
      "source": "phrase=\"Math Matters Tutoring Center\"\nprint(phrase.upper())",
      "execution_count": 55,
      "outputs": [
        {
          "output_type": "stream",
          "text": "MATH MATTERS TUTORING CENTER\n",
          "name": "stdout"
        }
      ]
    },
    {
      "metadata": {
        "trusted": true
      },
      "cell_type": "code",
      "source": "phrase=\"Math Matters Tutoring Center\"\nprint(phrase.lower())",
      "execution_count": 56,
      "outputs": [
        {
          "output_type": "stream",
          "text": "math matters tutoring center\n",
          "name": "stdout"
        }
      ]
    },
    {
      "metadata": {
        "trusted": true
      },
      "cell_type": "code",
      "source": "phrase=\"Math Matters Tutoring Center\"\nprint(phrase.isupper())",
      "execution_count": 57,
      "outputs": [
        {
          "output_type": "stream",
          "text": "False\n",
          "name": "stdout"
        }
      ]
    },
    {
      "metadata": {
        "trusted": true
      },
      "cell_type": "code",
      "source": "phrase=\"Math Matters Tutoring Center\"\nprint(phrase.islower())",
      "execution_count": 58,
      "outputs": [
        {
          "output_type": "stream",
          "text": "False\n",
          "name": "stdout"
        }
      ]
    },
    {
      "metadata": {
        "trusted": true
      },
      "cell_type": "code",
      "source": "phrase=\"Math Matters Tutoring Center\"\nprint(phrase[0])",
      "execution_count": 2,
      "outputs": [
        {
          "output_type": "stream",
          "text": "M\n",
          "name": "stdout"
        }
      ]
    },
    {
      "metadata": {
        "trusted": true,
        "scrolled": true
      },
      "cell_type": "code",
      "source": "phrase=\"Math Matters Tutoring Center\"\nprint(phrase[9])",
      "execution_count": 4,
      "outputs": [
        {
          "output_type": "stream",
          "text": "e\n",
          "name": "stdout"
        }
      ]
    },
    {
      "metadata": {
        "trusted": true
      },
      "cell_type": "code",
      "source": "i=1\nwhile i<12:\n    print(i)\n    i=i+1\n    ",
      "execution_count": 5,
      "outputs": [
        {
          "output_type": "stream",
          "text": "1\n2\n3\n4\n5\n6\n7\n8\n9\n10\n11\n",
          "name": "stdout"
        }
      ]
    },
    {
      "metadata": {
        "trusted": true
      },
      "cell_type": "code",
      "source": "print(3*(4+5))",
      "execution_count": 11,
      "outputs": [
        {
          "output_type": "stream",
          "text": "27\n",
          "name": "stdout"
        }
      ]
    },
    {
      "metadata": {
        "trusted": true
      },
      "cell_type": "code",
      "source": "print(10%3)",
      "execution_count": 12,
      "outputs": [
        {
          "output_type": "stream",
          "text": "1\n",
          "name": "stdout"
        }
      ]
    },
    {
      "metadata": {
        "trusted": true
      },
      "cell_type": "code",
      "source": "my_num=5\nprint(my_num)",
      "execution_count": 13,
      "outputs": [
        {
          "output_type": "stream",
          "text": "5\n",
          "name": "stdout"
        }
      ]
    },
    {
      "metadata": {
        "trusted": true
      },
      "cell_type": "code",
      "source": "my_num=5\nprint(str(my_num)+\" my fevorite number\")",
      "execution_count": 15,
      "outputs": [
        {
          "output_type": "stream",
          "text": "5 my fevorite number\n",
          "name": "stdout"
        }
      ]
    },
    {
      "metadata": {
        "trusted": true
      },
      "cell_type": "code",
      "source": "print(2+2.4)",
      "execution_count": 1,
      "outputs": [
        {
          "output_type": "stream",
          "text": "4.4\n",
          "name": "stdout"
        }
      ]
    },
    {
      "metadata": {
        "trusted": true
      },
      "cell_type": "code",
      "source": "print(2*2.4)",
      "execution_count": 2,
      "outputs": [
        {
          "output_type": "stream",
          "text": "4.8\n",
          "name": "stdout"
        }
      ]
    },
    {
      "metadata": {
        "trusted": true
      },
      "cell_type": "code",
      "source": "print(3*4+5)",
      "execution_count": 3,
      "outputs": [
        {
          "output_type": "stream",
          "text": "17\n",
          "name": "stdout"
        }
      ]
    },
    {
      "metadata": {
        "trusted": true
      },
      "cell_type": "code",
      "source": "print(3*(4+5))",
      "execution_count": 4,
      "outputs": [
        {
          "output_type": "stream",
          "text": "27\n",
          "name": "stdout"
        }
      ]
    },
    {
      "metadata": {
        "trusted": true
      },
      "cell_type": "code",
      "source": "print(10%3)",
      "execution_count": 5,
      "outputs": [
        {
          "output_type": "stream",
          "text": "1\n",
          "name": "stdout"
        }
      ]
    },
    {
      "metadata": {
        "trusted": true
      },
      "cell_type": "code",
      "source": "mylist=[5, 5, 6, 7, \"myString\", 2, 3.0,]\n    ",
      "execution_count": 20,
      "outputs": []
    },
    {
      "metadata": {
        "trusted": true
      },
      "cell_type": "code",
      "source": " print(mylist)\n",
      "execution_count": 30,
      "outputs": [
        {
          "output_type": "stream",
          "text": "[5, 5, 6, 7, 'myString', 2, 3.0]\n",
          "name": "stdout"
        }
      ]
    },
    {
      "metadata": {
        "trusted": true
      },
      "cell_type": "code",
      "source": "  print(len(mylist))",
      "execution_count": 29,
      "outputs": [
        {
          "output_type": "stream",
          "text": "7\n",
          "name": "stdout"
        }
      ]
    },
    {
      "metadata": {
        "trusted": true
      },
      "cell_type": "code",
      "source": "print(mylist[0])\nprint(mylist[4])\n",
      "execution_count": 32,
      "outputs": [
        {
          "output_type": "stream",
          "text": "5\nmyString\n",
          "name": "stdout"
        }
      ]
    },
    {
      "metadata": {
        "trusted": true
      },
      "cell_type": "code",
      "source": "mylist[2]=100",
      "execution_count": 33,
      "outputs": []
    },
    {
      "metadata": {
        "trusted": true
      },
      "cell_type": "code",
      "source": "print(mylist)\nmylist.append(500)\nprint(mylist)\nlist2=[11,33]\nmylist.extend(list2)\nprint(mylist)",
      "execution_count": 36,
      "outputs": [
        {
          "output_type": "stream",
          "text": "[5, 5, 100, 7, 'myString', 2, 3.0, 500]\n[5, 5, 100, 7, 'myString', 2, 3.0, 500, 500]\n[5, 5, 100, 7, 'myString', 2, 3.0, 500, 500, 11, 33]\n",
          "name": "stdout"
        }
      ]
    },
    {
      "metadata": {
        "trusted": true
      },
      "cell_type": "code",
      "source": "mylist=(9,8,7,6,5,4,3,2,1,)\nprint(mylist)\nprint(mylist[9:8])\nprint(mylist[:8])",
      "execution_count": 40,
      "outputs": [
        {
          "output_type": "stream",
          "text": "(9, 8, 7, 6, 5, 4, 3, 2, 1)\n()\n",
          "name": "stdout"
        }
      ]
    },
    {
      "metadata": {
        "trusted": true
      },
      "cell_type": "code",
      "source": "dictonaryexample={\"name\":\"rumana\",\n                  \"id\":\"1234567\",\n                  \"year\":\"4th\",\n                 }",
      "execution_count": 43,
      "outputs": []
    },
    {
      "metadata": {
        "trusted": true
      },
      "cell_type": "code",
      "source": "print(dictonaryexample)",
      "execution_count": 44,
      "outputs": [
        {
          "output_type": "stream",
          "text": "{'name': 'rumana', 'id': '1234567', 'year': '4th'}\n",
          "name": "stdout"
        }
      ]
    },
    {
      "metadata": {
        "trusted": true
      },
      "cell_type": "code",
      "source": "print(dictonaryexample['name'])",
      "execution_count": 45,
      "outputs": [
        {
          "output_type": "stream",
          "text": "rumana\n",
          "name": "stdout"
        }
      ]
    },
    {
      "metadata": {
        "trusted": true
      },
      "cell_type": "code",
      "source": "dictonaryexample[\"name\"]=\"shadnan\"",
      "execution_count": 46,
      "outputs": []
    },
    {
      "metadata": {
        "trusted": true
      },
      "cell_type": "code",
      "source": "print(dictonaryexample)",
      "execution_count": 47,
      "outputs": [
        {
          "output_type": "stream",
          "text": "{'name': 'shadnan', 'id': '1234567', 'year': '4th'}\n",
          "name": "stdout"
        }
      ]
    },
    {
      "metadata": {
        "trusted": true
      },
      "cell_type": "code",
      "source": "dictonaryexample[\"phone\"]=\"123456789\"",
      "execution_count": 48,
      "outputs": []
    },
    {
      "metadata": {
        "trusted": true
      },
      "cell_type": "code",
      "source": "print(dictonaryexample)",
      "execution_count": 49,
      "outputs": [
        {
          "output_type": "stream",
          "text": "{'name': 'shadnan', 'id': '1234567', 'year': '4th', 'phone': '123456789'}\n",
          "name": "stdout"
        }
      ]
    },
    {
      "metadata": {
        "trusted": true
      },
      "cell_type": "code",
      "source": "",
      "execution_count": null,
      "outputs": []
    },
    {
      "metadata": {
        "trusted": true
      },
      "cell_type": "code",
      "source": "print(dictonaryexample)",
      "execution_count": 50,
      "outputs": [
        {
          "output_type": "stream",
          "text": "{'name': 'shadnan', 'id': '1234567', 'year': '4th', 'phone': '123456789'}\n",
          "name": "stdout"
        }
      ]
    },
    {
      "metadata": {
        "trusted": true
      },
      "cell_type": "code",
      "source": "print(len(dictonaryexample))",
      "execution_count": 51,
      "outputs": [
        {
          "output_type": "stream",
          "text": "4\n",
          "name": "stdout"
        }
      ]
    },
    {
      "metadata": {
        "trusted": true
      },
      "cell_type": "code",
      "source": "print(dictonaryexample.keys())",
      "execution_count": 53,
      "outputs": [
        {
          "output_type": "stream",
          "text": "dict_keys(['name', 'id', 'year', 'phone'])\n",
          "name": "stdout"
        }
      ]
    },
    {
      "metadata": {
        "trusted": true
      },
      "cell_type": "code",
      "source": "print(dictonaryexample.values())",
      "execution_count": 55,
      "outputs": [
        {
          "output_type": "stream",
          "text": "dict_values(['shadnan', '1234567', '4th', '123456789'])\n",
          "name": "stdout"
        }
      ]
    },
    {
      "metadata": {
        "trusted": true
      },
      "cell_type": "code",
      "source": "print(dictonaryexample.items())",
      "execution_count": 56,
      "outputs": [
        {
          "output_type": "stream",
          "text": "dict_items([('name', 'shadnan'), ('id', '1234567'), ('year', '4th'), ('phone', '123456789')])\n",
          "name": "stdout"
        }
      ]
    },
    {
      "metadata": {
        "trusted": true
      },
      "cell_type": "code",
      "source": " for key in dictonaryexample :\n        print(key)",
      "execution_count": 72,
      "outputs": [
        {
          "output_type": "stream",
          "text": "name\nid\nyear\nphone\n",
          "name": "stdout"
        }
      ]
    },
    {
      "metadata": {
        "trusted": true
      },
      "cell_type": "code",
      "source": " for keys, values in dictonaryexample.items() :\n    print(keys,values)",
      "execution_count": 70,
      "outputs": [
        {
          "output_type": "stream",
          "text": "name shadnan\nid 1234567\nyear 4th\nphone 123456789\n",
          "name": "stdout"
        }
      ]
    },
    {
      "metadata": {
        "trusted": true
      },
      "cell_type": "code",
      "source": "var1=\"hello python\"",
      "execution_count": 6,
      "outputs": []
    },
    {
      "metadata": {
        "trusted": true
      },
      "cell_type": "code",
      "source": "print(var1)",
      "execution_count": 8,
      "outputs": [
        {
          "output_type": "stream",
          "text": "hello python\n",
          "name": "stdout"
        }
      ]
    },
    {
      "metadata": {
        "trusted": true
      },
      "cell_type": "code",
      "source": "var1=5\nvar2=5\nvar3=var1+var2\nprint(var3)",
      "execution_count": 9,
      "outputs": [
        {
          "output_type": "stream",
          "text": "10\n",
          "name": "stdout"
        }
      ]
    },
    {
      "metadata": {
        "trusted": true
      },
      "cell_type": "code",
      "source": "print('I\\'m rumana')",
      "execution_count": 12,
      "outputs": [
        {
          "output_type": "stream",
          "text": "I'm rumana\n",
          "name": "stdout"
        }
      ]
    },
    {
      "metadata": {
        "trusted": true
      },
      "cell_type": "code",
      "source": "age=25\nif(age>=25):\n    print(\"you are an adult\")\nelse:\n    print(\"you are not an adult\")",
      "execution_count": 19,
      "outputs": [
        {
          "output_type": "stream",
          "text": "you are an adult\n",
          "name": "stdout"
        }
      ]
    },
    {
      "metadata": {
        "trusted": true
      },
      "cell_type": "code",
      "source": "    ",
      "execution_count": null,
      "outputs": []
    }
  ],
  "metadata": {
    "kernelspec": {
      "name": "python36",
      "display_name": "Python 3.6",
      "language": "python"
    },
    "language_info": {
      "mimetype": "text/x-python",
      "nbconvert_exporter": "python",
      "name": "python",
      "pygments_lexer": "ipython3",
      "version": "3.6.6",
      "file_extension": ".py",
      "codemirror_mode": {
        "version": 3,
        "name": "ipython"
      }
    }
  },
  "nbformat": 4,
  "nbformat_minor": 1
}